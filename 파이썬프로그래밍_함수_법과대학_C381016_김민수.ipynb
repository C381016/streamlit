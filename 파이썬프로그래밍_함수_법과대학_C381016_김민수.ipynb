{
 "cells": [
  {
   "cell_type": "code",
   "execution_count": 4,
   "id": "32c388a7",
   "metadata": {},
   "outputs": [
    {
     "name": "stdout",
     "output_type": "stream",
     "text": [
      "inputs = (1, 2, 3)\n",
      "sum = np.int64(6), product = np.int64(6)\n",
      "\n",
      "inputs = (1, 2, 3, 4, 5, 6, 7, 8)\n",
      "sum = np.int64(36), product = np.int64(40320)\n"
     ]
    }
   ],
   "source": [
    "# 계산을 위해 numpy 모듈을 np로 import\n",
    "import numpy as np\n",
    "\n",
    "# calcSumProduct2 함수명, inputs는 크기가 정해지지 않은 parameter(매개변수)\n",
    "def calcSumProduct2(*inputs):\n",
    "    \"\"\" calcSumProduct2 함수는 입력의 합과 곱을 튜플로 반환하는 함수이다.\"\"\"\n",
    "\n",
    "    # f-sting을 이용하여 inputs의 값을 출력\n",
    "    print(f'{inputs = }')\n",
    "\n",
    "    # numpy 모듈을 이용하여 inputs의 합과 곱을 계산\n",
    "    plus = np.sum(inputs)\n",
    "    multiple = np.prod(inputs)\n",
    "\n",
    "    # plus와 multiple을 튜플로 반환\n",
    "    return plus, multiple\n",
    "\n",
    "# 인수와 1,2,3에 대한 함수를 적용하여 결과를 sum, priduct에 저장\n",
    "sum, product = calcSumProduct2(1,2,3)\n",
    "\n",
    "# sum과 product를 출력\n",
    "print(f'{sum = }, {product = }\\n')\n",
    "\n",
    "# 인수 1,2,3,4,5,6,7,8에 대한 함수를 적용하여 결과를 sum, product에 저장\n",
    "sum, product = calcSumProduct2(1,2,3,4,5,6,7,8)\n",
    "\n",
    "# sum과 product를 출력\n",
    "print(f'{sum = }, {product = }')"
   ]
  },
  {
   "cell_type": "markdown",
   "id": "3f1ef44c",
   "metadata": {},
   "source": [
    "#### ****kwags의 활용** "
   ]
  },
  {
   "cell_type": "code",
   "execution_count": null,
   "id": "d268819b",
   "metadata": {},
   "outputs": [
    {
     "name": "stdout",
     "output_type": "stream",
     "text": [
      "inputs = {'a': 1, 'b': 2}\n",
      "sum = 3, product = 2\n",
      "\n",
      "inputs = {'a': 1, 'b': 2, 'c': 3, 'd': 4}\n",
      "sum = 10, product = 24\n",
      "\n"
     ]
    }
   ],
   "source": [
    "import numpy as np\n",
    "\n",
    "# calcSumProduct2 함수명, inputs는 크기가 정해지지 않은 parameters\n",
    "def calcSumProduct2(**inputs):\n",
    "    \"\"\"calcSumProduct2 함수는 입력의 합과 곱을 튜플로 반환하는 함수이다.\"\"\"\n",
    "\n",
    "    # f-sring을 이용하여 inputs의 값을 출력\n",
    "    print(f'{inputs = }')\n",
    "\n",
    "    # plus에 0을, multiple에 1을 초기값으로 할당\n",
    "    plus = 0\n",
    "    multiple = 1\n",
    "\n",
    "    # inputs가 딕셔너리 이므로 key와 value를 반복하여 _, value에 할당\n",
    "    for _, value in inputs.items():\n",
    "        # plus에 value를 더하여 plus를 갱신\n",
    "        plus += value\n",
    "        multiple *= value\n",
    "\n",
    "    # plus와 multiple을 튜플로 반환\n",
    "    return plus, multiple\n",
    "\n",
    "# 인수 a=1, b=2에 대한 함수를 적용하여 결과를 sum, product에 저장\n",
    "sum, product = calcSumProduct2(a=1, b=2)\n",
    "print(f'{sum = }, {product = }\\n')\n",
    "\n",
    "# 인수 a=1, b=2, c=3, d=4 에 대한 함수를 적용하여 결과를 sum, product에 저장\n",
    "sum, product = calcSumProduct2(a=1, b=2, c=3, d=4)\n",
    "print(f'{sum = }, {product = }\\n')"
   ]
  },
  {
   "cell_type": "markdown",
   "id": "b6e13475",
   "metadata": {},
   "source": [
    "## **지역변수와 전역변수**\n",
    "-  지역변수(local variable): 함수 내에서 선언된 변수\n",
    "    - 함수 실행시 생성되고 함수 종료시 소명됨 -> 메모리 관리에 효율적임\n",
    "- 전역변수(global variable): 함수 외부에서 선언된 변수\n",
    "    - 함수 외부에서 선언되어 프로그램이 종료될 때까지 유지됨 -> 메모리 관리에 비효율적임\n",
    "    - 전역변수를 함수 내에서 선언하려면 global 전역변수명으로 선언해야 함 \n",
    "\n",
    "#### **함수 내에서 전역변수의 사용**\n",
    "- 전역변수를 그냥 사용하면 됨 "
   ]
  },
  {
   "cell_type": "code",
   "execution_count": 9,
   "id": "854d7e8b",
   "metadata": {},
   "outputs": [
    {
     "name": "stdout",
     "output_type": "stream",
     "text": [
      "var_global = '전역 변수'\n",
      "var_local = '인자는 지역 변수'\n",
      "var_global = '전역 변수'\n",
      "name 'var_local' is not defined\n"
     ]
    }
   ],
   "source": [
    "# var_global은 전역변수\n",
    "var_global = '전역 변수'\n",
    "\n",
    "# useGlobalVariable 함수명, var_local은 매개변수(지역 변수)\n",
    "def useGlobalVariable(var_local):\n",
    "\n",
    "    # 전역변수와 지역변수를 출력\n",
    "    print(f'{var_global = }')\n",
    "    print(f'{var_local = }')\n",
    "\n",
    "# useGlobalVariable 함수 호출, '인자는 지역 변수'는 인자\n",
    "useGlobalVariable('인자는 지역 변수')\n",
    "\n",
    "# 전역변수를 출력 -> 값이 변하지 않음\n",
    "print(f'{var_global = }')\n",
    "\n",
    "# 지역변수를 출력 -> 함수 내에서만 사용되는 변수로서 함수 외부에서는 사용 불가\n",
    "try:\n",
    "    print(f'{var_local = }')\n",
    "except NameError as e:\n",
    "    print(e)\n"
   ]
  },
  {
   "cell_type": "markdown",
   "id": "d952d859",
   "metadata": {},
   "source": [
    "### **함수 내에서 전역변수의 변경**\n",
    "- 함수 내에서 전역변수의 변경은 안됨. 전역변수가 아닌 지역변수로 생성됨"
   ]
  },
  {
   "cell_type": "code",
   "execution_count": 10,
   "id": "42e8b4a1",
   "metadata": {},
   "outputs": [
    {
     "name": "stdout",
     "output_type": "stream",
     "text": [
      "var_global = '전역 변수가 아닌 지역변수임'\n",
      "var_local = '인자는 지역 변수'\n",
      "var_global = '전역 변수'\n"
     ]
    }
   ],
   "source": [
    "var_global = '전역 변수'\n",
    "\n",
    "def useGlobalVariable(var_local):\n",
    "\n",
    "\n",
    "    # var_global을 변경하면, 전역변수가 아닌 지역변수로 생성하여 사용됨\n",
    "    # 즉, 변수명은 동일하나 서로 다른 변수임\n",
    "    var_global = '전역 변수가 아닌 지역변수임'\n",
    "    print(f'{var_global = }')\n",
    "    print(f'{var_local = }')\n",
    "\n",
    "# useGlobalVariable 함수 호출, '인자는 지역 변수'는 인자\n",
    "useGlobalVariable('인자는 지역 변수')\n",
    "\n",
    "# 전역변수를 출력 -> 값이 변하지 않음\n",
    "print(f'{var_global = }')"
   ]
  },
  {
   "cell_type": "markdown",
   "id": "a08d8aac",
   "metadata": {},
   "source": [
    "### **함수 내에서 전역변수를 변경하는 방법**\n",
    "- global 전역변수명으로 선언해야 함 "
   ]
  },
  {
   "cell_type": "code",
   "execution_count": 11,
   "id": "606f9327",
   "metadata": {},
   "outputs": [
    {
     "name": "stdout",
     "output_type": "stream",
     "text": [
      "var_global = '전역 변수'\n",
      "var_local = '인자는 지역 변수'\n",
      "var_global = '이제는 전역 변수임'\n"
     ]
    }
   ],
   "source": [
    "var_global = '전역 변수'\n",
    "\n",
    "def useGlobalVariable(var_local):\n",
    "\n",
    "    # var_global이 전역변수임을 명시\n",
    "    global var_global\n",
    "\n",
    "    # 전역변수와 지역변수를 출력\n",
    "    print(f'{var_global = }')\n",
    "    print(f'{var_local = }')\n",
    "\n",
    "    # var_global은 이제 전역변수이므로 전역변수의 값이 변경됨\n",
    "    var_global = '이제는 전역 변수임'\n",
    "\n",
    "# useGlobalVariable 함수 호출, '인자는 지역 변수'는 인자\n",
    "useGlobalVariable('인자는 지역 변수')\n",
    "\n",
    "# 전역변수를 출력 -> 값이 변경됨\n",
    "print(f'{var_global = }')\n"
   ]
  },
  {
   "cell_type": "markdown",
   "id": "60ea0544",
   "metadata": {},
   "source": [
    "## **람다함수**\n",
    "- 람다함수는 일반 함수를 가볍게 만들어 사용하기 위한 함수\n",
    "- 람다함수(lambda function) = 람다표현식(lambda expression) = 익명함수(anonymous function)\n",
    "\n",
    "#### **람다함수 정의** "
   ]
  },
  {
   "cell_type": "code",
   "execution_count": null,
   "id": "32a3d025",
   "metadata": {},
   "outputs": [],
   "source": [
    "# 일반함수의 정의\n",
    "def 함수명(매개변수):\n",
    "    return 표현식\n",
    "\n",
    "# 함수명이 없는 람다함수\n",
    "lambda 매개변수: 표현식\n",
    "\n",
    "# 함수명이 있는 람다함수\n",
    "함수명 = lambda 매개변수: 표현식식"
   ]
  },
  {
   "cell_type": "markdown",
   "id": "abb121b8",
   "metadata": {},
   "source": [
    "- 일반 함수 정의 "
   ]
  },
  {
   "cell_type": "code",
   "execution_count": 12,
   "id": "65783778",
   "metadata": {},
   "outputs": [
    {
     "data": {
      "text/plain": [
       "15"
      ]
     },
     "execution_count": 12,
     "metadata": {},
     "output_type": "execute_result"
    }
   ],
   "source": [
    "# x를 매개변수로 하여 10을 더하는 함수정의\n",
    "def addTen(x):\n",
    "    return x+10\n",
    "\n",
    "# 일반 함수 호출\n",
    "addTen(5)"
   ]
  },
  {
   "cell_type": "markdown",
   "id": "7a89431f",
   "metadata": {},
   "source": [
    " - 함수명이 없는 람다함수 "
   ]
  },
  {
   "cell_type": "code",
   "execution_count": 13,
   "id": "29367c1a",
   "metadata": {},
   "outputs": [
    {
     "data": {
      "text/plain": [
       "<function __main__.<lambda>(x)>"
      ]
     },
     "execution_count": 13,
     "metadata": {},
     "output_type": "execute_result"
    }
   ],
   "source": [
    "# x를 매개변수로 하여 10을 더하는 함수를 lambda로 정의\n",
    "lambda x: x+10"
   ]
  },
  {
   "cell_type": "code",
   "execution_count": 14,
   "id": "a18c5650",
   "metadata": {},
   "outputs": [
    {
     "data": {
      "text/plain": [
       "15"
      ]
     },
     "execution_count": 14,
     "metadata": {},
     "output_type": "execute_result"
    }
   ],
   "source": [
    "# lambda 함수 호출 -> 함수명이 없으므로 함수를 호출할 수 없어 정의하여 바로 호출\n",
    "(lambda x: x+10)(5)"
   ]
  },
  {
   "cell_type": "markdown",
   "id": "ef3ed6fe",
   "metadata": {},
   "source": [
    "- 함수명이 있는 람다함수 "
   ]
  },
  {
   "cell_type": "code",
   "execution_count": 15,
   "id": "d5441847",
   "metadata": {},
   "outputs": [
    {
     "data": {
      "text/plain": [
       "15"
      ]
     },
     "execution_count": 15,
     "metadata": {},
     "output_type": "execute_result"
    }
   ],
   "source": [
    "# x를 입력받아 x+10을 반환하는 람다함수를 addTen으로 명명\n",
    "addTen = lambda x: x + 10\n",
    "\n",
    "# addTen 함수 호출\n",
    "addTen(5)"
   ]
  },
  {
   "cell_type": "markdown",
   "id": "cd35a929",
   "metadata": {},
   "source": [
    "#### **람다함수 응용**\n",
    "##### 람다함수에 외부 변수의 사용\n",
    "- 람다함수 내부에서는 새로운 변수를 생성할 수 없으나 외부 변수는 사용가능 "
   ]
  },
  {
   "cell_type": "code",
   "execution_count": 16,
   "id": "b97e94f2",
   "metadata": {},
   "outputs": [
    {
     "data": {
      "text/plain": [
       "115"
      ]
     },
     "execution_count": 16,
     "metadata": {},
     "output_type": "execute_result"
    }
   ],
   "source": [
    "# 외부변수\n",
    "y = 100\n",
    "\n",
    "# 외부변수를 참조하는 람다함수\n",
    "(lambda x: x+y+10)(5)"
   ]
  },
  {
   "cell_type": "markdown",
   "id": "145689af",
   "metadata": {},
   "source": [
    "##### 람다함수에 조건부 표현식 사용 "
   ]
  },
  {
   "cell_type": "code",
   "execution_count": 17,
   "id": "9f6b36f9",
   "metadata": {},
   "outputs": [
    {
     "data": {
      "text/plain": [
       "8"
      ]
     },
     "execution_count": 17,
     "metadata": {},
     "output_type": "execute_result"
    }
   ],
   "source": [
    "# x가 3의 배수이면 '(3의 배수) '+str(x)를 반환하고, 아니면 x를 반환하는 람다함수\n",
    "(lambda x: '(3의배수)'+str(x) if x%3==0 else x)(8)"
   ]
  },
  {
   "cell_type": "code",
   "execution_count": 18,
   "id": "67bbce17",
   "metadata": {},
   "outputs": [
    {
     "data": {
      "text/plain": [
       "'(3의 배수) 9'"
      ]
     },
     "execution_count": 18,
     "metadata": {},
     "output_type": "execute_result"
    }
   ],
   "source": [
    "# x가 3의 배수이면 '(3의 배수) '+str(x)를 반환하고,\n",
    "# x를 3으로 나눈 나머지가 1이면 float(x)를 반환하고,\n",
    "# 모두 해당이 안 되면 x를 반환하는 람다함수\n",
    "(lambda x: '(3의 배수) '+str(x) if x%3==0 else float(x) if x%3==1 else x)(9)"
   ]
  },
  {
   "cell_type": "code",
   "execution_count": 19,
   "id": "70f1519a",
   "metadata": {},
   "outputs": [
    {
     "data": {
      "text/plain": [
       "7.0"
      ]
     },
     "execution_count": 19,
     "metadata": {},
     "output_type": "execute_result"
    }
   ],
   "source": [
    "(lambda x: '(3의 배수) '+str(x) if x%3==0 else float(x) if x%3==1 else x)(7)"
   ]
  },
  {
   "cell_type": "code",
   "execution_count": 20,
   "id": "3964bc04",
   "metadata": {},
   "outputs": [
    {
     "data": {
      "text/plain": [
       "5"
      ]
     },
     "execution_count": 20,
     "metadata": {},
     "output_type": "execute_result"
    }
   ],
   "source": [
    "(lambda x: '(3의 배수) '+str(x) if x%3==0 else float(x) if x%3==1 else x)(5)"
   ]
  },
  {
   "cell_type": "markdown",
   "id": "a4c12819",
   "metadata": {},
   "source": [
    "##### 람다함수에 인자 여러개 넣기 "
   ]
  },
  {
   "cell_type": "code",
   "execution_count": 21,
   "id": "67dd7391",
   "metadata": {},
   "outputs": [
    {
     "data": {
      "text/plain": [
       "3"
      ]
     },
     "execution_count": 21,
     "metadata": {},
     "output_type": "execute_result"
    }
   ],
   "source": [
    "# x가 3의 배수이면 x를, 아니면 x+y를 반환하는 람다함수\n",
    "(lambda x,y: x if x%3==0 else x+y)(3,4)"
   ]
  },
  {
   "cell_type": "code",
   "execution_count": 22,
   "id": "47e05995",
   "metadata": {},
   "outputs": [
    {
     "data": {
      "text/plain": [
       "6"
      ]
     },
     "execution_count": 22,
     "metadata": {},
     "output_type": "execute_result"
    }
   ],
   "source": [
    "(lambda x,y: x if x%3==0 else x+y)(2,4)"
   ]
  },
  {
   "cell_type": "markdown",
   "id": "55ba4221",
   "metadata": {},
   "source": [
    "#### **람다함수의 활용**\n",
    "- 람다함수는 짧은 코드로 함수를 정의하여 사용하기 때문에 *간단한 함수를 정의하여 다른 함수의 인수로 사용할 때 유용함*\n",
    "##### map 함수에 적용\n",
    "- map 함수는 iterable 객테의 원소를 지정된 함수로 처리해주는 함수\n",
    "- map(함수명, iterable 객체)\n",
    "    - map 함수의 결과는 map 객체로 반환됨 -> 값을 확인하기 위해서는 list() 함수로 변환하여 사용함 "
   ]
  },
  {
   "cell_type": "code",
   "execution_count": 23,
   "id": "7c1238d4",
   "metadata": {},
   "outputs": [
    {
     "data": {
      "text/plain": [
       "[11, 12, 13]"
      ]
     },
     "execution_count": 23,
     "metadata": {},
     "output_type": "execute_result"
    }
   ],
   "source": [
    "# [1,2,3]의 원소를 x에 할당하여 x+10을 반환하는 람다함수를 호출하여 list로 변환\n",
    "list(map(lambda x: x+10, [1,2,3]))"
   ]
  },
  {
   "cell_type": "code",
   "execution_count": 24,
   "id": "21a91f43",
   "metadata": {},
   "outputs": [
    {
     "data": {
      "text/plain": [
       "['(3의 배수) 0', 1, 2, '(3의 배수) 3', 4, 5, '(3의 배수) 6', 7, 8, '(3의 배수) 9']"
      ]
     },
     "execution_count": 24,
     "metadata": {},
     "output_type": "execute_result"
    }
   ],
   "source": [
    "# range(10)의 원소를 x에 할당하여 x가 3의 배수이면 '(3의 배수) '+str(x)를 반환하고,\n",
    "# 아니면 x를 반환하는 람다함수를 호출하여 list로 변환\n",
    "ldMultiple3 = lambda x: '(3의 배수) '+str(x) if x%3==0 else x\n",
    "list(map(ldMultiple3, range(10)))"
   ]
  },
  {
   "cell_type": "code",
   "execution_count": 27,
   "id": "9bf7c381",
   "metadata": {},
   "outputs": [
    {
     "data": {
      "text/plain": [
       "['(3의 배수) 0', 1.0, 2, '(3의 배수) 3', 4.0, 5, '(3의 배수) 6', 7.0, 8, '(3의 배수) 9']"
      ]
     },
     "execution_count": 27,
     "metadata": {},
     "output_type": "execute_result"
    }
   ],
   "source": [
    "# range(10)의 원소를 x에 할당하여 x가 3의 배수이면 '(3의 배수) '+str(x)를 반환하고,\n",
    "# x를 3으로 나눈 나머지가 1이면 float(x)를 반환하고,\n",
    "# 모두 해당이 안 되면 x를 반환하는 람다함수를 호출하여 list로 변환\n",
    "ldMultiple3f = lambda x: '(3의 배수) '+str(x) if x%3==0 else float(x) if x%3==1 else x\n",
    "list(map(ldMultiple3f, range(10)))"
   ]
  },
  {
   "cell_type": "code",
   "execution_count": 30,
   "id": "dd306cf8",
   "metadata": {},
   "outputs": [
    {
     "data": {
      "text/plain": [
       "[0, 101, 102, 3, 104, 105, 6, 107, 108, 9]"
      ]
     },
     "execution_count": 30,
     "metadata": {},
     "output_type": "execute_result"
    }
   ],
   "source": [
    "# range(10)의 원소를 x에 할당하고, [100]*10의 원소를 y에 할당하여\n",
    "# x가 3의 배수이면 x를, 아니면 x+y를 반환하는 람다함수를 호출하여 list로 변환\n",
    "ldMultiple3a = lambda x, y: x if x%3==0 else x+y\n",
    "list(map(ldMultiple3a, range(10), [100]*10))"
   ]
  }
 ],
 "metadata": {
  "kernelspec": {
   "display_name": "Python 3",
   "language": "python",
   "name": "python3"
  },
  "language_info": {
   "codemirror_mode": {
    "name": "ipython",
    "version": 3
   },
   "file_extension": ".py",
   "mimetype": "text/x-python",
   "name": "python",
   "nbconvert_exporter": "python",
   "pygments_lexer": "ipython3",
   "version": "3.13.2"
  }
 },
 "nbformat": 4,
 "nbformat_minor": 5
}
